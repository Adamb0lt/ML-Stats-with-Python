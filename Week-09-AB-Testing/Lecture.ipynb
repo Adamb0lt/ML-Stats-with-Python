{
 "cells": [
  {
   "cell_type": "markdown",
   "id": "stopped-puppy",
   "metadata": {},
   "source": [
    "### Prompt\n",
    "\n",
    "Let’s imagine you work on the home team at Spotify. The product designer worked really hard on a new version of the home page, with the hope that it will lead to a higher conversion rate. The product manager told you that the current conversion rate is about 13% on average throughout the year, and that the team would be happy with an increase of 2%, meaning that the new design will be considered a success if it raises the conversion rate to 15%.\n",
    "\n",
    "Before rolling out the change, the team would be more comfortable testing it on a small number of users to see how it performs, so you suggest running an A/B test on a subset of the user base."
   ]
  },
  {
   "cell_type": "code",
   "execution_count": 2,
   "id": "prime-cricket",
   "metadata": {},
   "outputs": [],
   "source": [
    "import numpy as np\n",
    "import pandas as pd\n",
    "\n",
    "# probability distributions & statistical functions\n",
    "import scipy.stats as stats\n",
    "\n",
    "# estimating statistical models\n",
    "import statsmodels.stats.api as sms\n",
    "\n",
    "# libraries for plotting\n",
    "import matplotlib.pyplot as plt\n",
    "import seaborn as sns\n",
    "sns.set_theme()\n",
    "\n",
    "\n",
    "# rounding function\n",
    "from math import ceil\n"
   ]
  },
  {
   "cell_type": "markdown",
   "id": "expired-williams",
   "metadata": {},
   "source": [
    "### Sample Size Calculation\n",
    "\n",
    "Having set the power parameter to 0.8 in practice means that if there exists an actual difference in conversion rate between our designs, assuming the difference is the one we estimated (13% vs. 15%), we have about 80% chance to detect it as statistically significant in our test with the sample size we calculated."
   ]
  },
  {
   "cell_type": "code",
   "execution_count": 3,
   "id": "daily-printer",
   "metadata": {},
   "outputs": [
    {
     "name": "stdout",
     "output_type": "stream",
     "text": [
      "4720\n",
      "-0.0576728617308947 4720\n"
     ]
    }
   ],
   "source": [
    "effect_size = sms.proportion_effectsize(0.13, 0.15)    # Calculating effect size based on our expected rates\n",
    "\n",
    "#                                                         # Effect size for a test comparing two proportions\n",
    "required_n = sms.NormalIndPower().solve_power(\n",
    "    effect_size,\n",
    "    power=0.8,\n",
    "    alpha=0.05,\n",
    "    ratio=1)                                                  # Calculating sample size needed\n",
    "\n",
    "\n",
    "required_n = ceil(required_n)                          # Rounding up to next whole number\n",
    "print(required_n)\n",
    "\n",
    "\n",
    "# required_n = 9999\n",
    "\n",
    "print(effect_size, required_n)\n"
   ]
  },
  {
   "cell_type": "markdown",
   "id": "lonely-associate",
   "metadata": {},
   "source": [
    "### Collecting and preparing the data"
   ]
  },
  {
   "cell_type": "markdown",
   "id": "d95230bd",
   "metadata": {},
   "source": [
    "- user_id - The user ID of each session\n",
    "- timestamp - Timestamp for the session\n",
    "- group - Which group the user was assigned to for that session {control, treatment}\n",
    "- landing_page - Which design each user saw on that session {old_page, new_page}\n",
    "- converted - Whether the session ended in a conversion or not (binary, 0=not converted, 1=converted)"
   ]
  },
  {
   "cell_type": "code",
   "execution_count": 4,
   "id": "4e3ab795",
   "metadata": {},
   "outputs": [
    {
     "name": "stdout",
     "output_type": "stream",
     "text": [
      "(294399, 5)\n"
     ]
    },
    {
     "data": {
      "text/html": [
       "<div>\n",
       "<style scoped>\n",
       "    .dataframe tbody tr th:only-of-type {\n",
       "        vertical-align: middle;\n",
       "    }\n",
       "\n",
       "    .dataframe tbody tr th {\n",
       "        vertical-align: top;\n",
       "    }\n",
       "\n",
       "    .dataframe thead th {\n",
       "        text-align: right;\n",
       "    }\n",
       "</style>\n",
       "<table border=\"1\" class=\"dataframe\">\n",
       "  <thead>\n",
       "    <tr style=\"text-align: right;\">\n",
       "      <th></th>\n",
       "      <th>user_id</th>\n",
       "      <th>timestamp</th>\n",
       "      <th>group</th>\n",
       "      <th>landing_page</th>\n",
       "      <th>converted</th>\n",
       "    </tr>\n",
       "  </thead>\n",
       "  <tbody>\n",
       "    <tr>\n",
       "      <th>0</th>\n",
       "      <td>661590</td>\n",
       "      <td>2017-01-11 16:55:06</td>\n",
       "      <td>treatment</td>\n",
       "      <td>new_page</td>\n",
       "      <td>0</td>\n",
       "    </tr>\n",
       "    <tr>\n",
       "      <th>1</th>\n",
       "      <td>853541</td>\n",
       "      <td>2017-01-08 18:28:03</td>\n",
       "      <td>treatment</td>\n",
       "      <td>new_page</td>\n",
       "      <td>0</td>\n",
       "    </tr>\n",
       "    <tr>\n",
       "      <th>2</th>\n",
       "      <td>679687</td>\n",
       "      <td>2017-01-19 3:26:47</td>\n",
       "      <td>treatment</td>\n",
       "      <td>new_page</td>\n",
       "      <td>1</td>\n",
       "    </tr>\n",
       "    <tr>\n",
       "      <th>3</th>\n",
       "      <td>817355</td>\n",
       "      <td>2017-01-04 17:58:09</td>\n",
       "      <td>treatment</td>\n",
       "      <td>new_page</td>\n",
       "      <td>1</td>\n",
       "    </tr>\n",
       "    <tr>\n",
       "      <th>4</th>\n",
       "      <td>839785</td>\n",
       "      <td>2017-01-15 18:11:07</td>\n",
       "      <td>treatment</td>\n",
       "      <td>new_page</td>\n",
       "      <td>1</td>\n",
       "    </tr>\n",
       "  </tbody>\n",
       "</table>\n",
       "</div>"
      ],
      "text/plain": [
       "   user_id            timestamp      group landing_page  converted\n",
       "0   661590  2017-01-11 16:55:06  treatment     new_page          0\n",
       "1   853541  2017-01-08 18:28:03  treatment     new_page          0\n",
       "2   679687   2017-01-19 3:26:47  treatment     new_page          1\n",
       "3   817355  2017-01-04 17:58:09  treatment     new_page          1\n",
       "4   839785  2017-01-15 18:11:07  treatment     new_page          1"
      ]
     },
     "execution_count": 4,
     "metadata": {},
     "output_type": "execute_result"
    }
   ],
   "source": [
    "df = pd.read_csv('data/ab_data.csv')\n",
    "print(df.shape)\n",
    "df.head()\n"
   ]
  },
  {
   "cell_type": "code",
   "execution_count": 5,
   "id": "liquid-works",
   "metadata": {},
   "outputs": [
    {
     "name": "stdout",
     "output_type": "stream",
     "text": [
      "<class 'pandas.core.frame.DataFrame'>\n",
      "RangeIndex: 294399 entries, 0 to 294398\n",
      "Data columns (total 5 columns):\n",
      " #   Column        Non-Null Count   Dtype \n",
      "---  ------        --------------   ----- \n",
      " 0   user_id       294399 non-null  int64 \n",
      " 1   timestamp     294399 non-null  object\n",
      " 2   group         294399 non-null  object\n",
      " 3   landing_page  294399 non-null  object\n",
      " 4   converted     294399 non-null  int64 \n",
      "dtypes: int64(2), object(3)\n",
      "memory usage: 11.2+ MB\n"
     ]
    }
   ],
   "source": [
    "df.info()"
   ]
  },
  {
   "cell_type": "code",
   "execution_count": 6,
   "id": "3cf73ab1",
   "metadata": {},
   "outputs": [
    {
     "name": "stdout",
     "output_type": "stream",
     "text": [
      "2017-01-11 16:55:06 <class 'str'> <class 'pandas._libs.tslibs.timestamps.Timestamp'>\n"
     ]
    }
   ],
   "source": [
    "first_timestamp_cell = df['timestamp'].iloc[0]\n",
    "\n",
    "print( first_timestamp_cell, type(first_timestamp_cell), type(pd.to_datetime(first_timestamp_cell)) )"
   ]
  },
  {
   "cell_type": "code",
   "execution_count": null,
   "id": "07617b72",
   "metadata": {},
   "outputs": [],
   "source": []
  },
  {
   "cell_type": "markdown",
   "id": "historic-coordinate",
   "metadata": {},
   "source": [
    "#### Before we go ahead and sample the data to get our subset, let’s make sure there are no users that have been sampled multiple times."
   ]
  },
  {
   "cell_type": "code",
   "execution_count": 7,
   "id": "wound-colombia",
   "metadata": {},
   "outputs": [
    {
     "name": "stdout",
     "output_type": "stream",
     "text": [
      "3815 user_id\n",
      "796965    2\n",
      "649042    2\n",
      "705774    2\n",
      "904598    2\n",
      "826539    2\n",
      "         ..\n",
      "699989    1\n",
      "770290    1\n",
      "863993    1\n",
      "883225    1\n",
      "697314    1\n",
      "Name: count, Length: 290584, dtype: int64\n"
     ]
    }
   ],
   "source": [
    "session_counts = df['user_id'].value_counts()\n",
    "multi_users = session_counts[session_counts > 1].count()\n",
    "\n",
    "print(multi_users)\n"
   ]
  },
  {
   "cell_type": "markdown",
   "id": "august-audit",
   "metadata": {},
   "source": [
    "#### There are 3815 users that appear more than once. Since the number is pretty low, we’ll go ahead and remove them from the DataFrame to avoid sampling the same users twice."
   ]
  },
  {
   "cell_type": "code",
   "execution_count": 9,
   "id": "changed-notice",
   "metadata": {},
   "outputs": [
    {
     "name": "stdout",
     "output_type": "stream",
     "text": [
      "(294399, 5)\n",
      "(286769, 5)\n"
     ]
    }
   ],
   "source": [
    "print(df.shape)\n",
    "users_to_drop = session_counts[session_counts > 1].index\n",
    "\n",
    "df = df[~df['user_id'].isin(users_to_drop)]\n",
    "print(df.shape)"
   ]
  },
  {
   "cell_type": "code",
   "execution_count": 10,
   "id": "fabulous-incidence",
   "metadata": {},
   "outputs": [
    {
     "data": {
      "text/html": [
       "<div>\n",
       "<style scoped>\n",
       "    .dataframe tbody tr th:only-of-type {\n",
       "        vertical-align: middle;\n",
       "    }\n",
       "\n",
       "    .dataframe tbody tr th {\n",
       "        vertical-align: top;\n",
       "    }\n",
       "\n",
       "    .dataframe thead th {\n",
       "        text-align: right;\n",
       "    }\n",
       "</style>\n",
       "<table border=\"1\" class=\"dataframe\">\n",
       "  <thead>\n",
       "    <tr style=\"text-align: right;\">\n",
       "      <th>landing_page</th>\n",
       "      <th>new_page</th>\n",
       "      <th>old_page</th>\n",
       "    </tr>\n",
       "    <tr>\n",
       "      <th>group</th>\n",
       "      <th></th>\n",
       "      <th></th>\n",
       "    </tr>\n",
       "  </thead>\n",
       "  <tbody>\n",
       "    <tr>\n",
       "      <th>control</th>\n",
       "      <td>0</td>\n",
       "      <td>143340</td>\n",
       "    </tr>\n",
       "    <tr>\n",
       "      <th>treatment</th>\n",
       "      <td>143429</td>\n",
       "      <td>0</td>\n",
       "    </tr>\n",
       "  </tbody>\n",
       "</table>\n",
       "</div>"
      ],
      "text/plain": [
       "landing_page  new_page  old_page\n",
       "group                           \n",
       "control              0    143340\n",
       "treatment       143429         0"
      ]
     },
     "execution_count": 10,
     "metadata": {},
     "output_type": "execute_result"
    }
   ],
   "source": [
    "# To make sure all the control group are seeing the old page and viceversa\n",
    "pd.crosstab(df['group'], df['landing_page'])"
   ]
  },
  {
   "cell_type": "code",
   "execution_count": 11,
   "id": "integrated-center",
   "metadata": {},
   "outputs": [
    {
     "name": "stderr",
     "output_type": "stream",
     "text": [
      "C:\\Users\\adwal\\AppData\\Local\\Temp\\ipykernel_16640\\1278853633.py:7: UserWarning: Boolean Series key will be reindexed to match DataFrame index.\n",
      "  df_control = df_control[df.landing_page != 'new_page'].copy()\n",
      "C:\\Users\\adwal\\AppData\\Local\\Temp\\ipykernel_16640\\1278853633.py:10: UserWarning: Boolean Series key will be reindexed to match DataFrame index.\n",
      "  df_treat = df_treat[df.landing_page != 'old_page'].copy()\n"
     ]
    },
    {
     "data": {
      "text/plain": [
       "(286769, 5)"
      ]
     },
     "execution_count": 11,
     "metadata": {},
     "output_type": "execute_result"
    }
   ],
   "source": [
    "#get rid of users who appeared in the wrong test group\n",
    "\n",
    "df_control = df[(df['group'] == 'control')].copy()\n",
    "\n",
    "\n",
    "# Sanity check that everyone in control group didn't receive new page.\n",
    "df_control = df_control[df.landing_page != 'new_page'].copy()\n",
    "\n",
    "df_treat = df[(df['group'] == 'treatment')].copy()\n",
    "df_treat = df_treat[df.landing_page != 'old_page'].copy()\n",
    "\n",
    "df_clean = pd.concat([df_control, df_treat], ignore_index=True)\n",
    "\n",
    "\n",
    "df = df_clean.copy()\n",
    "df.shape"
   ]
  },
  {
   "cell_type": "code",
   "execution_count": null,
   "id": "22100164",
   "metadata": {
    "scrolled": true
   },
   "outputs": [],
   "source": []
  },
  {
   "cell_type": "code",
   "execution_count": 12,
   "id": "decimal-eagle",
   "metadata": {},
   "outputs": [
    {
     "data": {
      "text/html": [
       "<div>\n",
       "<style scoped>\n",
       "    .dataframe tbody tr th:only-of-type {\n",
       "        vertical-align: middle;\n",
       "    }\n",
       "\n",
       "    .dataframe tbody tr th {\n",
       "        vertical-align: top;\n",
       "    }\n",
       "\n",
       "    .dataframe thead th {\n",
       "        text-align: right;\n",
       "    }\n",
       "</style>\n",
       "<table border=\"1\" class=\"dataframe\">\n",
       "  <thead>\n",
       "    <tr style=\"text-align: right;\">\n",
       "      <th>landing_page</th>\n",
       "      <th>new_page</th>\n",
       "      <th>old_page</th>\n",
       "    </tr>\n",
       "    <tr>\n",
       "      <th>group</th>\n",
       "      <th></th>\n",
       "      <th></th>\n",
       "    </tr>\n",
       "  </thead>\n",
       "  <tbody>\n",
       "    <tr>\n",
       "      <th>control</th>\n",
       "      <td>0</td>\n",
       "      <td>143340</td>\n",
       "    </tr>\n",
       "    <tr>\n",
       "      <th>treatment</th>\n",
       "      <td>143429</td>\n",
       "      <td>0</td>\n",
       "    </tr>\n",
       "  </tbody>\n",
       "</table>\n",
       "</div>"
      ],
      "text/plain": [
       "landing_page  new_page  old_page\n",
       "group                           \n",
       "control              0    143340\n",
       "treatment       143429         0"
      ]
     },
     "execution_count": 12,
     "metadata": {},
     "output_type": "execute_result"
    }
   ],
   "source": [
    "# To make sure all the control group are seeing the old page and viceversa\n",
    "pd.crosstab(df['group'], df['landing_page'])"
   ]
  },
  {
   "cell_type": "markdown",
   "id": "photographic-bolivia",
   "metadata": {},
   "source": [
    "#### Now that our DataFrame is nice and clean, we can proceed and sample n=4720 entries for each of the groups. We can use pandas' DataFrame.sample() method to do this, which will perform Simple Random Sampling for us."
   ]
  },
  {
   "cell_type": "code",
   "execution_count": 13,
   "id": "pursuant-energy",
   "metadata": {},
   "outputs": [
    {
     "name": "stdout",
     "output_type": "stream",
     "text": [
      "        user_id            timestamp    group landing_page  converted\n",
      "44722    791475  2017-01-21 13:20:59  control     old_page          0\n",
      "105070   925638  2017-01-08 20:06:39  control     old_page          0\n",
      "77392    659674  2017-01-13 11:54:00  control     old_page          0\n",
      "61722    671388   2017-01-03 9:45:23  control     old_page          0\n",
      "126907   632318  2017-01-06 13:54:02  control     old_page          0\n",
      "...         ...                  ...      ...          ...        ...\n",
      "105161   741896  2017-01-16 10:53:21  control     old_page          0\n",
      "28088    749307   2017-01-08 1:19:39  control     old_page          0\n",
      "81900    892995   2017-01-16 9:41:59  control     old_page          1\n",
      "27438    889767   2017-01-15 0:10:53  control     old_page          0\n",
      "121522   837586  2017-01-21 10:54:36  control     old_page          0\n",
      "\n",
      "[4720 rows x 5 columns]         user_id            timestamp      group landing_page  converted\n",
      "286365   882179  2017-01-22 10:51:53  treatment     new_page          0\n",
      "215203   893785   2017-01-03 3:07:19  treatment     new_page          1\n",
      "265501   853869  2017-01-05 18:49:49  treatment     new_page          0\n",
      "232063   852034  2017-01-09 11:01:10  treatment     new_page          0\n",
      "267313   791050  2017-01-07 12:54:47  treatment     new_page          0\n",
      "...         ...                  ...        ...          ...        ...\n",
      "180937   663083   2017-01-21 4:43:02  treatment     new_page          0\n",
      "197107   657358   2017-01-10 3:28:17  treatment     new_page          0\n",
      "239713   752248  2017-01-14 22:26:13  treatment     new_page          0\n",
      "275039   872365   2017-01-04 5:49:57  treatment     new_page          0\n",
      "237851   641536   2017-01-17 7:04:39  treatment     new_page          0\n",
      "\n",
      "[4720 rows x 5 columns]\n",
      "0.11822033898305084 0.1444915254237288 difference:  0.02627118644067797\n"
     ]
    }
   ],
   "source": [
    "control_sample = df[df['group'] == 'control'].sample(n=required_n, random_state=444)\n",
    "treatment_sample = df[df['group'] == 'treatment'].sample(n=required_n, random_state=444)\n",
    "\n",
    "cont_conv = control_sample.converted.mean()\n",
    "test_conv = treatment_sample.converted.mean()\n",
    "\n",
    "print(control_sample,  treatment_sample)\n",
    "print(cont_conv,  test_conv, \"difference: \", test_conv - cont_conv)\n"
   ]
  },
  {
   "cell_type": "code",
   "execution_count": 15,
   "id": "legal-network",
   "metadata": {},
   "outputs": [
    {
     "data": {
      "text/html": [
       "<div>\n",
       "<style scoped>\n",
       "    .dataframe tbody tr th:only-of-type {\n",
       "        vertical-align: middle;\n",
       "    }\n",
       "\n",
       "    .dataframe tbody tr th {\n",
       "        vertical-align: top;\n",
       "    }\n",
       "\n",
       "    .dataframe thead th {\n",
       "        text-align: right;\n",
       "    }\n",
       "</style>\n",
       "<table border=\"1\" class=\"dataframe\">\n",
       "  <thead>\n",
       "    <tr style=\"text-align: right;\">\n",
       "      <th></th>\n",
       "      <th>user_id</th>\n",
       "      <th>timestamp</th>\n",
       "      <th>group</th>\n",
       "      <th>landing_page</th>\n",
       "      <th>converted</th>\n",
       "    </tr>\n",
       "  </thead>\n",
       "  <tbody>\n",
       "    <tr>\n",
       "      <th>0</th>\n",
       "      <td>791475</td>\n",
       "      <td>2017-01-21 13:20:59</td>\n",
       "      <td>control</td>\n",
       "      <td>old_page</td>\n",
       "      <td>0</td>\n",
       "    </tr>\n",
       "    <tr>\n",
       "      <th>1</th>\n",
       "      <td>925638</td>\n",
       "      <td>2017-01-08 20:06:39</td>\n",
       "      <td>control</td>\n",
       "      <td>old_page</td>\n",
       "      <td>0</td>\n",
       "    </tr>\n",
       "    <tr>\n",
       "      <th>2</th>\n",
       "      <td>659674</td>\n",
       "      <td>2017-01-13 11:54:00</td>\n",
       "      <td>control</td>\n",
       "      <td>old_page</td>\n",
       "      <td>0</td>\n",
       "    </tr>\n",
       "    <tr>\n",
       "      <th>3</th>\n",
       "      <td>671388</td>\n",
       "      <td>2017-01-03 9:45:23</td>\n",
       "      <td>control</td>\n",
       "      <td>old_page</td>\n",
       "      <td>0</td>\n",
       "    </tr>\n",
       "    <tr>\n",
       "      <th>4</th>\n",
       "      <td>632318</td>\n",
       "      <td>2017-01-06 13:54:02</td>\n",
       "      <td>control</td>\n",
       "      <td>old_page</td>\n",
       "      <td>0</td>\n",
       "    </tr>\n",
       "    <tr>\n",
       "      <th>...</th>\n",
       "      <td>...</td>\n",
       "      <td>...</td>\n",
       "      <td>...</td>\n",
       "      <td>...</td>\n",
       "      <td>...</td>\n",
       "    </tr>\n",
       "    <tr>\n",
       "      <th>9435</th>\n",
       "      <td>663083</td>\n",
       "      <td>2017-01-21 4:43:02</td>\n",
       "      <td>treatment</td>\n",
       "      <td>new_page</td>\n",
       "      <td>0</td>\n",
       "    </tr>\n",
       "    <tr>\n",
       "      <th>9436</th>\n",
       "      <td>657358</td>\n",
       "      <td>2017-01-10 3:28:17</td>\n",
       "      <td>treatment</td>\n",
       "      <td>new_page</td>\n",
       "      <td>0</td>\n",
       "    </tr>\n",
       "    <tr>\n",
       "      <th>9437</th>\n",
       "      <td>752248</td>\n",
       "      <td>2017-01-14 22:26:13</td>\n",
       "      <td>treatment</td>\n",
       "      <td>new_page</td>\n",
       "      <td>0</td>\n",
       "    </tr>\n",
       "    <tr>\n",
       "      <th>9438</th>\n",
       "      <td>872365</td>\n",
       "      <td>2017-01-04 5:49:57</td>\n",
       "      <td>treatment</td>\n",
       "      <td>new_page</td>\n",
       "      <td>0</td>\n",
       "    </tr>\n",
       "    <tr>\n",
       "      <th>9439</th>\n",
       "      <td>641536</td>\n",
       "      <td>2017-01-17 7:04:39</td>\n",
       "      <td>treatment</td>\n",
       "      <td>new_page</td>\n",
       "      <td>0</td>\n",
       "    </tr>\n",
       "  </tbody>\n",
       "</table>\n",
       "<p>9440 rows × 5 columns</p>\n",
       "</div>"
      ],
      "text/plain": [
       "      user_id            timestamp      group landing_page  converted\n",
       "0      791475  2017-01-21 13:20:59    control     old_page          0\n",
       "1      925638  2017-01-08 20:06:39    control     old_page          0\n",
       "2      659674  2017-01-13 11:54:00    control     old_page          0\n",
       "3      671388   2017-01-03 9:45:23    control     old_page          0\n",
       "4      632318  2017-01-06 13:54:02    control     old_page          0\n",
       "...       ...                  ...        ...          ...        ...\n",
       "9435   663083   2017-01-21 4:43:02  treatment     new_page          0\n",
       "9436   657358   2017-01-10 3:28:17  treatment     new_page          0\n",
       "9437   752248  2017-01-14 22:26:13  treatment     new_page          0\n",
       "9438   872365   2017-01-04 5:49:57  treatment     new_page          0\n",
       "9439   641536   2017-01-17 7:04:39  treatment     new_page          0\n",
       "\n",
       "[9440 rows x 5 columns]"
      ]
     },
     "execution_count": 15,
     "metadata": {},
     "output_type": "execute_result"
    }
   ],
   "source": [
    "ab_test = pd.concat([control_sample, treatment_sample], axis=0)\n",
    "ab_test.reset_index(drop=True, inplace=True)\n",
    "ab_test"
   ]
  },
  {
   "cell_type": "code",
   "execution_count": 16,
   "id": "temporal-yahoo",
   "metadata": {},
   "outputs": [
    {
     "data": {
      "text/plain": [
       "group\n",
       "control      4720\n",
       "treatment    4720\n",
       "Name: count, dtype: int64"
      ]
     },
     "execution_count": 16,
     "metadata": {},
     "output_type": "execute_result"
    }
   ],
   "source": [
    "ab_test['group'].value_counts()\n"
   ]
  },
  {
   "cell_type": "markdown",
   "id": "israeli-suicide",
   "metadata": {},
   "source": [
    "### Analysis Visualization"
   ]
  },
  {
   "cell_type": "markdown",
   "id": "4e9f4abc",
   "metadata": {},
   "source": [
    "Here are the 13 aggregating functions available in Pandas and quick summary of what it does.\n",
    "\n",
    "\t- mean(): Compute mean of groups\n",
    "\t- sum(): Compute sum of group values\n",
    "\t- size(): Compute group sizes\n",
    "\t- count(): Compute count of group\n",
    "\t- std(): Standard deviation of groups\n",
    "\t- var(): Compute variance of groups\n",
    "\t- sem(): Standard error of the mean of groups\n",
    "\t- describe(): Generates descriptive statistics\n",
    "\t- first(): Compute first of group values\n",
    "\t- last(): Compute last of group values\n",
    "\t- nth() : Take nth value, or a subset if n is a list\n",
    "\t- min(): Compute min of group values\n",
    "\t- max(): Compute max of group values\n"
   ]
  },
  {
   "cell_type": "code",
   "execution_count": 17,
   "id": "2965a7b8",
   "metadata": {},
   "outputs": [
    {
     "data": {
      "text/html": [
       "<div>\n",
       "<style scoped>\n",
       "    .dataframe tbody tr th:only-of-type {\n",
       "        vertical-align: middle;\n",
       "    }\n",
       "\n",
       "    .dataframe tbody tr th {\n",
       "        vertical-align: top;\n",
       "    }\n",
       "\n",
       "    .dataframe thead th {\n",
       "        text-align: right;\n",
       "    }\n",
       "</style>\n",
       "<table border=\"1\" class=\"dataframe\">\n",
       "  <thead>\n",
       "    <tr style=\"text-align: right;\">\n",
       "      <th></th>\n",
       "      <th>group</th>\n",
       "      <th>std</th>\n",
       "      <th>mean</th>\n",
       "      <th>sem</th>\n",
       "      <th>sum</th>\n",
       "      <th>count</th>\n",
       "    </tr>\n",
       "  </thead>\n",
       "  <tbody>\n",
       "    <tr>\n",
       "      <th>0</th>\n",
       "      <td>control</td>\n",
       "      <td>0.322903</td>\n",
       "      <td>0.118220</td>\n",
       "      <td>0.004700</td>\n",
       "      <td>558</td>\n",
       "      <td>4720</td>\n",
       "    </tr>\n",
       "    <tr>\n",
       "      <th>1</th>\n",
       "      <td>treatment</td>\n",
       "      <td>0.351625</td>\n",
       "      <td>0.144492</td>\n",
       "      <td>0.005118</td>\n",
       "      <td>682</td>\n",
       "      <td>4720</td>\n",
       "    </tr>\n",
       "  </tbody>\n",
       "</table>\n",
       "</div>"
      ],
      "text/plain": [
       "       group       std      mean       sem  sum  count\n",
       "0    control  0.322903  0.118220  0.004700  558   4720\n",
       "1  treatment  0.351625  0.144492  0.005118  682   4720"
      ]
     },
     "execution_count": 17,
     "metadata": {},
     "output_type": "execute_result"
    }
   ],
   "source": [
    "summary_stats = ab_test.groupby('group')['converted'].agg(['std', 'mean', 'sem', 'sum', 'count'])\n",
    "summary_stats = summary_stats.reset_index()\n",
    "summary_stats"
   ]
  },
  {
   "cell_type": "code",
   "execution_count": null,
   "id": "e2f247a4",
   "metadata": {},
   "outputs": [],
   "source": []
  },
  {
   "cell_type": "code",
   "execution_count": 26,
   "id": "25cce44e",
   "metadata": {},
   "outputs": [
    {
     "data": {
      "text/plain": [
       "<matplotlib.legend.Legend at 0x22cf7fc55e0>"
      ]
     },
     "execution_count": 26,
     "metadata": {},
     "output_type": "execute_result"
    },
    {
     "data": {
      "image/png": "[encoded data removed]",
      "text/plain": [
       "<Figure size 1200x600 with 1 Axes>"
      ]
     },
     "metadata": {},
     "output_type": "display_data"
    }
   ],
   "source": [
    "import scipy.stats as scs\n",
    "\n",
    "control_selector = summary_stats['group'] == 'control'\n",
    "treatment_selector = summary_stats['group'] == 'treatment'\n",
    "\n",
    "# number of observations\n",
    "control_total = summary_stats[control_selector]['count'].values\n",
    "treatment_total = summary_stats[treatment_selector]['count'].values\n",
    "\n",
    "\n",
    "# conversion rate\n",
    "control_cr = summary_stats[ control_selector]['mean'].values\n",
    "treatment_cr = summary_stats[ treatment_selector]['mean'].values\n",
    "\n",
    "\n",
    "# total conversions\n",
    "control_converted = summary_stats[control_selector]['sum'].values\n",
    "treatment_converted = summary_stats[treatment_selector]['sum'].values\n",
    "\n",
    "\n",
    "xA = np.linspace(control_converted-100, control_converted+100, 500).flatten()\n",
    "yA = scs.binom(control_total, control_cr).pmf(xA).flatten()\n",
    "\n",
    "xB = np.linspace(treatment_converted-100, treatment_converted+100, 500).flatten()\n",
    "yB = scs.binom(treatment_total, treatment_cr).pmf(xB).flatten()\n",
    "\n",
    "\n",
    "\n",
    "\n",
    "fig, ax = plt.subplots(figsize=(12,6))\n",
    "ax.bar(xA, yA, alpha=0.5)\n",
    "ax.bar(xB, yB, alpha=0.5)\n",
    "\n",
    "\n",
    "# ax.axvline(x=z.values[0], c='blue', alpha=0.75, linestyle='--')\n",
    "plt.xlabel('converted')\n",
    "plt.ylabel('probability')\n",
    "\n",
    "ax.legend(['control', 'treatment'])"
   ]
  },
  {
   "cell_type": "code",
   "execution_count": 23,
   "id": "f5e91512",
   "metadata": {},
   "outputs": [
    {
     "name": "stdout",
     "output_type": "stream",
     "text": [
      "[4720] [4720]\n",
      "[0.11822034] [0.14449153]\n",
      "[558] [682]\n"
     ]
    }
   ],
   "source": [
    "print(control_total, treatment_total)\n",
    "print(control_cr, treatment_cr)\n",
    "print(control_converted, treatment_converted)"
   ]
  },
  {
   "cell_type": "code",
   "execution_count": 36,
   "id": "70b60c68",
   "metadata": {},
   "outputs": [
    {
     "data": {
      "text/plain": [
       "<matplotlib.legend.Legend at 0x22cfc42e6c0>"
      ]
     },
     "execution_count": 36,
     "metadata": {},
     "output_type": "execute_result"
    },
    {
     "data": {
      "image/png": "[encoded data removed]",
      "text/plain": [
       "<Figure size 1200x600 with 1 Axes>"
      ]
     },
     "metadata": {},
     "output_type": "display_data"
    }
   ],
   "source": [
    "# standard error of the mean for both groups\n",
    "SE_A = summary_stats[control_selector]['sem']\n",
    "SE_B = summary_stats[treatment_selector]['sem']\n",
    "\n",
    "\n",
    "# plot the null and alternative hypothesis\n",
    "fig, ax = plt.subplots(figsize=(12,6))\n",
    "xA = np.linspace(.1, .16, 500)\n",
    "yA = scs.norm(control_cr, SE_A).pdf(xA)\n",
    "\n",
    "\n",
    "ax.plot(xA, yA, c='red')\n",
    "ax.axvline(x=control_cr, c='red', alpha=0.5, linestyle='--')\n",
    "\n",
    "xB = np.linspace(0.1, .16, 500)\n",
    "yB = scs.norm(treatment_cr, SE_B).pdf(xB)\n",
    "\n",
    "ax.plot(xB, yB, c='blue')\n",
    "ax.axvline(x=treatment_cr, c='blue', alpha=0.5, linestyle='--')\n",
    "plt.xlabel('Converted Rate')\n",
    "plt.ylabel('PDF') #probability density function\n",
    "\n",
    "ax.legend(labels=['control', 'control mean', 'treatment', 'treatment mean'])"
   ]
  },
  {
   "cell_type": "markdown",
   "id": "julian-baker",
   "metadata": {},
   "source": [
    "#### Judging by the stats above, it does look like our two designs performed very similarly, with our new design performing slightly better, approx. 11.6% vs. 14.4% conversion rate.\n"
   ]
  },
  {
   "cell_type": "code",
   "execution_count": 44,
   "id": "passive-barrel",
   "metadata": {},
   "outputs": [
    {
     "data": {
      "image/png": "[encoded data removed]",
      "text/plain": [
       "<Figure size 800x600 with 1 Axes>"
      ]
     },
     "metadata": {},
     "output_type": "display_data"
    }
   ],
   "source": [
    "plt.figure(figsize=(8,6))\n",
    "\n",
    "sns.barplot(x=ab_test['group'], y=ab_test['converted'])\n",
    "\n",
    "plt.ylim(0, 0.17)\n",
    "\n",
    "plt.title('Conversion rate by group', pad=20)\n",
    "plt.xlabel('Group', labelpad=15)\n",
    "plt.ylabel('Converted (proportion)', labelpad=15);"
   ]
  },
  {
   "cell_type": "markdown",
   "id": "impaired-festival",
   "metadata": {},
   "source": [
    "### Testing for Stat Sig"
   ]
  },
  {
   "cell_type": "markdown",
   "id": "mature-north",
   "metadata": {},
   "source": [
    "#### Python makes all the calculations very easy. We can use the statsmodels.stats.proportion module to get the p-value and confidence intervals"
   ]
  },
  {
   "cell_type": "code",
   "execution_count": 45,
   "id": "visible-scene",
   "metadata": {
    "scrolled": true
   },
   "outputs": [
    {
     "name": "stdout",
     "output_type": "stream",
     "text": [
      "observation in control 4720\n",
      "observation in treatment 4720\n",
      "successes in control 558, and successes in treatment 682.\n"
     ]
    }
   ],
   "source": [
    "from statsmodels.stats.proportion import proportions_ztest, proportion_confint\n",
    "\n",
    "control_results = ab_test[ab_test['group'] == 'control']['converted']\n",
    "treatment_results = ab_test[ab_test['group'] == 'treatment']['converted']\n",
    "\n",
    "n_con = control_results.count()\n",
    "n_treat = treatment_results.count()\n",
    "\n",
    "successes = [control_results.sum(), treatment_results.sum()]\n",
    "nobs = [n_con, n_treat]\n",
    "\n",
    "print('observation in control', n_con)\n",
    "print('observation in treatment', n_treat)\n",
    "print('successes in control %d, and successes in treatment %d.' % (successes[0], successes[1]))\n"
   ]
  },
  {
   "cell_type": "code",
   "execution_count": 46,
   "id": "another-astronomy",
   "metadata": {},
   "outputs": [],
   "source": [
    "z_stat, pval = proportions_ztest(\n",
    "    successes,\n",
    "    nobs=nobs) #Test for proportions based on normal ztest\n",
    "(lower_con, lower_treat), (upper_con, upper_treat) = proportion_confint(successes, nobs=nobs, alpha=0.05) #confidence interval for a binomial proportion\n"
   ]
  },
  {
   "cell_type": "code",
   "execution_count": 47,
   "id": "photographic-bachelor",
   "metadata": {},
   "outputs": [
    {
     "name": "stdout",
     "output_type": "stream",
     "text": [
      "z statistic: -3.78\n",
      "p-value: 0.000158\n",
      "ci 95% for control group: [0.109, 0.127]\n",
      "ci 95% for treatment group: [0.134, 0.155]\n"
     ]
    }
   ],
   "source": [
    "print(f'z statistic: {z_stat:.2f}')\n",
    "print(f'p-value: {pval:.6f}')\n",
    "print(f'ci 95% for control group: [{lower_con:.3f}, {upper_con:.3f}]')\n",
    "print(f'ci 95% for treatment group: [{lower_treat:.3f}, {upper_treat:.3f}]')"
   ]
  },
  {
   "cell_type": "markdown",
   "id": "genuine-indication",
   "metadata": {},
   "source": [
    "## Since our p-value=0.000158 is WAY below our α=0.05 threshold, we can reject the Null hypothesis Hₒ, which means that our new design did  perform significantly better than our old one"
   ]
  },
  {
   "cell_type": "code",
   "execution_count": 48,
   "id": "rolled-alloy",
   "metadata": {},
   "outputs": [
    {
     "data": {
      "text/html": [
       "<div>\n",
       "<style scoped>\n",
       "    .dataframe tbody tr th:only-of-type {\n",
       "        vertical-align: middle;\n",
       "    }\n",
       "\n",
       "    .dataframe tbody tr th {\n",
       "        vertical-align: top;\n",
       "    }\n",
       "\n",
       "    .dataframe thead th {\n",
       "        text-align: right;\n",
       "    }\n",
       "</style>\n",
       "<table border=\"1\" class=\"dataframe\">\n",
       "  <thead>\n",
       "    <tr style=\"text-align: right;\">\n",
       "      <th></th>\n",
       "      <th>group</th>\n",
       "      <th>std</th>\n",
       "      <th>mean</th>\n",
       "      <th>sem</th>\n",
       "      <th>sum</th>\n",
       "      <th>count</th>\n",
       "    </tr>\n",
       "  </thead>\n",
       "  <tbody>\n",
       "    <tr>\n",
       "      <th>0</th>\n",
       "      <td>control</td>\n",
       "      <td>0.322903</td>\n",
       "      <td>0.118220</td>\n",
       "      <td>0.004700</td>\n",
       "      <td>558</td>\n",
       "      <td>4720</td>\n",
       "    </tr>\n",
       "    <tr>\n",
       "      <th>1</th>\n",
       "      <td>treatment</td>\n",
       "      <td>0.351625</td>\n",
       "      <td>0.144492</td>\n",
       "      <td>0.005118</td>\n",
       "      <td>682</td>\n",
       "      <td>4720</td>\n",
       "    </tr>\n",
       "  </tbody>\n",
       "</table>\n",
       "</div>"
      ],
      "text/plain": [
       "       group       std      mean       sem  sum  count\n",
       "0    control  0.322903  0.118220  0.004700  558   4720\n",
       "1  treatment  0.351625  0.144492  0.005118  682   4720"
      ]
     },
     "execution_count": 48,
     "metadata": {},
     "output_type": "execute_result"
    }
   ],
   "source": [
    "summary_stats"
   ]
  },
  {
   "cell_type": "markdown",
   "id": "dressed-swing",
   "metadata": {},
   "source": [
    "#### If we look at the confidence interval for the treatment group ([0.134, 0.154], or 13.4-15.4%) we notice that:\n",
    "- It does include our target value of 15% (the 2% uplift we were aiming for)"
   ]
  },
  {
   "cell_type": "code",
   "execution_count": 49,
   "id": "following-cradle",
   "metadata": {},
   "outputs": [
    {
     "data": {
      "text/plain": [
       "(0.13446130591140723, 0.1545217449360504)"
      ]
     },
     "execution_count": 49,
     "metadata": {},
     "output_type": "execute_result"
    }
   ],
   "source": [
    "lower_treat, upper_treat"
   ]
  },
  {
   "cell_type": "code",
   "execution_count": 50,
   "id": "4848887f",
   "metadata": {},
   "outputs": [
    {
     "data": {
      "text/plain": [
       "<matplotlib.lines.Line2D at 0x22cfc1fb1d0>"
      ]
     },
     "execution_count": 50,
     "metadata": {},
     "output_type": "execute_result"
    },
    {
     "data": {
      "image/png": "[encoded data removed]",
      "text/plain": [
       "<Figure size 1200x600 with 1 Axes>"
      ]
     },
     "metadata": {},
     "output_type": "display_data"
    }
   ],
   "source": [
    "\n",
    "# standard error of the mean for both groups\n",
    "SE_A = summary_stats[control_selector]['sem']\n",
    "SE_B = summary_stats[treatment_selector]['sem']\n",
    "\n",
    "\n",
    "# plot the null and alternative hypothesis\n",
    "fig, ax = plt.subplots(figsize=(12,6))\n",
    "xA = np.linspace(.1, .16, 500)\n",
    "yA = scs.norm(control_cr, SE_A).pdf(xA)\n",
    "\n",
    "\n",
    "ax.plot(xA, yA, c='red')\n",
    "\n",
    "# lower bound\n",
    "ax.axvline(x=lower_con, c='red', alpha=0.5, linestyle='--')\n",
    "ax.axvline(x=upper_con, c='red', alpha=0.5, linestyle='--')\n",
    "\n",
    "\n",
    "xB = np.linspace(0.1, .16, 500)\n",
    "yB = scs.norm(treatment_cr, SE_B).pdf(xB)\n",
    "ax.plot(xB, yB, c='blue')\n",
    "\n",
    "ax.axvline(x=lower_treat, c='blue', alpha=0.5, linestyle='--')\n",
    "ax.axvline(x=upper_treat, c='blue', alpha=0.5, linestyle='--')\n",
    "\n",
    "\n",
    "plt.xlabel('Converted Rate')\n",
    "plt.ylabel('PDF')\n",
    "\n",
    "ax.axvline(x=0.15, c='black')"
   ]
  },
  {
   "cell_type": "code",
   "execution_count": null,
   "id": "a98d9dfb",
   "metadata": {},
   "outputs": [],
   "source": []
  },
  {
   "cell_type": "code",
   "execution_count": null,
   "id": "8b5cfb56",
   "metadata": {},
   "outputs": [],
   "source": []
  },
  {
   "cell_type": "code",
   "execution_count": null,
   "id": "a831ddad",
   "metadata": {},
   "outputs": [],
   "source": []
  },
  {
   "cell_type": "code",
   "execution_count": null,
   "id": "c5b80929",
   "metadata": {},
   "outputs": [],
   "source": []
  }
 ],
 "metadata": {
  "kernelspec": {
   "display_name": "Python 3 (ipykernel)",
   "language": "python",
   "name": "python3"
  },
  "language_info": {
   "codemirror_mode": {
    "name": "ipython",
    "version": 3
   },
   "file_extension": ".py",
   "mimetype": "text/x-python",
   "name": "python",
   "nbconvert_exporter": "python",
   "pygments_lexer": "ipython3",
   "version": "3.12.0"
  }
 },
 "nbformat": 4,
 "nbformat_minor": 5
}
